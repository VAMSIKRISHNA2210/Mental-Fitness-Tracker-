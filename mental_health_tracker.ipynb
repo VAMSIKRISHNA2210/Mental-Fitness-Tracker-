{
 "cells": [
  {
   "cell_type": "markdown",
   "id": "4f70db97",
   "metadata": {},
   "source": [
    "## STEP 1: IMPORT THE NECESSARY LIBRARIES"
   ]
  },
  {
   "cell_type": "code",
   "execution_count": 4,
   "id": "a55bcf46",
   "metadata": {},
   "outputs": [
    {
     "name": "stdout",
     "output_type": "stream",
     "text": [
      "Collecting xgboost\n",
      "  Downloading xgboost-1.7.6-py3-none-macosx_12_0_arm64.whl (1.6 MB)\n",
      "\u001b[2K     \u001b[90m━━━━━━━━━━━━━━━━━━━━━━━━━━━━━━━━━━━━━━━━\u001b[0m \u001b[32m1.6/1.6 MB\u001b[0m \u001b[31m3.9 MB/s\u001b[0m eta \u001b[36m0:00:00\u001b[0ma \u001b[36m0:00:01\u001b[0m0m\n",
      "\u001b[?25hRequirement already satisfied: numpy in /Users/Agenttiger/anaconda3/lib/python3.10/site-packages (from xgboost) (1.23.5)\n",
      "Requirement already satisfied: scipy in /Users/Agenttiger/anaconda3/lib/python3.10/site-packages (from xgboost) (1.10.0)\n",
      "Installing collected packages: xgboost\n",
      "Successfully installed xgboost-1.7.6\n",
      "Note: you may need to restart the kernel to use updated packages.\n"
     ]
    }
   ],
   "source": [
    "pip install xgboost"
   ]
  },
  {
   "cell_type": "code",
   "execution_count": 6,
   "id": "8d795c18",
   "metadata": {},
   "outputs": [],
   "source": [
    "import pandas as pd\n",
    "import numpy as np\n",
    "import matplotlib.pyplot as plt\n",
    "import seaborn as sns\n",
    "from sklearn.model_selection import train_test_split\n",
    "from sklearn.linear_model import Ridge, Lasso, ElasticNet, LinearRegression, BayesianRidge\n",
    "from sklearn.svm import SVR\n",
    "from sklearn.tree import DecisionTreeRegressor\n",
    "from sklearn.ensemble import RandomForestRegressor, GradientBoostingRegressor\n",
    "from sklearn.preprocessing import PolynomialFeatures\n",
    "from sklearn.metrics import mean_squared_error, r2_score\n",
    "from xgboost import XGBRegressor\n",
    "from sklearn.neighbors import KNeighborsRegressor\n",
    "from sklearn.neural_network import MLPRegressor"
   ]
  },
  {
   "cell_type": "markdown",
   "id": "44b8ff33",
   "metadata": {},
   "source": [
    "---\n",
    "## STEP 2: READ THE DATA FROM THE CSV FILES\n",
    "- [Dataset was downloaded from ourworldindata.org](https://ourworldindata.org/grapher/mental-and-substance-use-as-share-of-disease)\n"
   ]
  },
  {
   "cell_type": "code",
   "execution_count": 7,
   "id": "67705c7b",
   "metadata": {},
   "outputs": [],
   "source": [
    "df1 = pd.read_csv('mental-and-substance-use-as-share-of-disease.csv')\n",
    "df2 = pd.read_csv('prevalence-by-mental-and-substance-use-disorder.csv')"
   ]
  },
  {
   "cell_type": "markdown",
   "id": "12cec9b0",
   "metadata": {},
   "source": [
    "---\n",
    "## STEP 3: FILL MISSING VALUES IN NUMERIC COLUMNS OF DATAFRAMES df1 AND df2 WITH THE MEAN OF THEIR RESPECTIVE COLUMNS"
   ]
  },
  {
   "cell_type": "code",
   "execution_count": 8,
   "id": "6e5a27b2",
   "metadata": {},
   "outputs": [],
   "source": [
    "numeric_columns = df1.select_dtypes(include=[np.number]).columns\n",
    "df1[numeric_columns] = df1[numeric_columns].fillna(df1[numeric_columns].mean())\n",
    "\n",
    "numeric_columns = df2.select_dtypes(include=[np.number]).columns\n",
    "df2[numeric_columns] = df2[numeric_columns].fillna(df2[numeric_columns].mean())"
   ]
  },
  {
   "cell_type": "markdown",
   "id": "bfaaebd8",
   "metadata": {},
   "source": [
    "---\n",
    "## STEP 4: CONVERT DATA TYPES"
   ]
  },
  {
   "cell_type": "code",
   "execution_count": 9,
   "id": "5d73d097",
   "metadata": {},
   "outputs": [
    {
     "ename": "KeyError",
     "evalue": "'Schizophrenia disorders (share of population) - Sex: Both - Age: Age-standardized'",
     "output_type": "error",
     "traceback": [
      "\u001b[0;31m---------------------------------------------------------------------------\u001b[0m",
      "\u001b[0;31mKeyError\u001b[0m                                  Traceback (most recent call last)",
      "File \u001b[0;32m~/anaconda3/lib/python3.10/site-packages/pandas/core/indexes/base.py:3802\u001b[0m, in \u001b[0;36mIndex.get_loc\u001b[0;34m(self, key, method, tolerance)\u001b[0m\n\u001b[1;32m   3801\u001b[0m \u001b[38;5;28;01mtry\u001b[39;00m:\n\u001b[0;32m-> 3802\u001b[0m     \u001b[38;5;28;01mreturn\u001b[39;00m \u001b[38;5;28;43mself\u001b[39;49m\u001b[38;5;241;43m.\u001b[39;49m\u001b[43m_engine\u001b[49m\u001b[38;5;241;43m.\u001b[39;49m\u001b[43mget_loc\u001b[49m\u001b[43m(\u001b[49m\u001b[43mcasted_key\u001b[49m\u001b[43m)\u001b[49m\n\u001b[1;32m   3803\u001b[0m \u001b[38;5;28;01mexcept\u001b[39;00m \u001b[38;5;167;01mKeyError\u001b[39;00m \u001b[38;5;28;01mas\u001b[39;00m err:\n",
      "File \u001b[0;32m~/anaconda3/lib/python3.10/site-packages/pandas/_libs/index.pyx:138\u001b[0m, in \u001b[0;36mpandas._libs.index.IndexEngine.get_loc\u001b[0;34m()\u001b[0m\n",
      "File \u001b[0;32m~/anaconda3/lib/python3.10/site-packages/pandas/_libs/index.pyx:165\u001b[0m, in \u001b[0;36mpandas._libs.index.IndexEngine.get_loc\u001b[0;34m()\u001b[0m\n",
      "File \u001b[0;32mpandas/_libs/hashtable_class_helper.pxi:5745\u001b[0m, in \u001b[0;36mpandas._libs.hashtable.PyObjectHashTable.get_item\u001b[0;34m()\u001b[0m\n",
      "File \u001b[0;32mpandas/_libs/hashtable_class_helper.pxi:5753\u001b[0m, in \u001b[0;36mpandas._libs.hashtable.PyObjectHashTable.get_item\u001b[0;34m()\u001b[0m\n",
      "\u001b[0;31mKeyError\u001b[0m: 'Schizophrenia disorders (share of population) - Sex: Both - Age: Age-standardized'",
      "\nThe above exception was the direct cause of the following exception:\n",
      "\u001b[0;31mKeyError\u001b[0m                                  Traceback (most recent call last)",
      "Cell \u001b[0;32mIn[9], line 2\u001b[0m\n\u001b[1;32m      1\u001b[0m df1[\u001b[38;5;124m'\u001b[39m\u001b[38;5;124mDALYs (Disability-Adjusted Life Years) - Mental disorders - Sex: Both - Age: All Ages (Percent)\u001b[39m\u001b[38;5;124m'\u001b[39m] \u001b[38;5;241m=\u001b[39m df1[\u001b[38;5;124m'\u001b[39m\u001b[38;5;124mDALYs (Disability-Adjusted Life Years) - Mental disorders - Sex: Both - Age: All Ages (Percent)\u001b[39m\u001b[38;5;124m'\u001b[39m]\u001b[38;5;241m.\u001b[39mastype(\u001b[38;5;28mfloat\u001b[39m)\n\u001b[0;32m----> 2\u001b[0m df2[\u001b[38;5;124m'\u001b[39m\u001b[38;5;124mSchizophrenia disorders (share of population) - Sex: Both - Age: Age-standardized\u001b[39m\u001b[38;5;124m'\u001b[39m] \u001b[38;5;241m=\u001b[39m \u001b[43mdf2\u001b[49m\u001b[43m[\u001b[49m\u001b[38;5;124;43m'\u001b[39;49m\u001b[38;5;124;43mSchizophrenia disorders (share of population) - Sex: Both - Age: Age-standardized\u001b[39;49m\u001b[38;5;124;43m'\u001b[39;49m\u001b[43m]\u001b[49m\u001b[38;5;241m.\u001b[39mastype(\u001b[38;5;28mfloat\u001b[39m)\n\u001b[1;32m      3\u001b[0m df2[\u001b[38;5;124m'\u001b[39m\u001b[38;5;124mBipolar disorders (share of population) - Sex: Both - Age: Age-standardized\u001b[39m\u001b[38;5;124m'\u001b[39m] \u001b[38;5;241m=\u001b[39m df2[\u001b[38;5;124m'\u001b[39m\u001b[38;5;124mBipolar disorders (share of population) - Sex: Both - Age: Age-standardized\u001b[39m\u001b[38;5;124m'\u001b[39m]\u001b[38;5;241m.\u001b[39mastype(\u001b[38;5;28mfloat\u001b[39m)\n\u001b[1;32m      4\u001b[0m df2[\u001b[38;5;124m'\u001b[39m\u001b[38;5;124mEating disorders (share of population) - Sex: Both - Age: Age-standardized\u001b[39m\u001b[38;5;124m'\u001b[39m] \u001b[38;5;241m=\u001b[39m df2[\u001b[38;5;124m'\u001b[39m\u001b[38;5;124mEating disorders (share of population) - Sex: Both - Age: Age-standardized\u001b[39m\u001b[38;5;124m'\u001b[39m]\u001b[38;5;241m.\u001b[39mastype(\u001b[38;5;28mfloat\u001b[39m)\n",
      "File \u001b[0;32m~/anaconda3/lib/python3.10/site-packages/pandas/core/frame.py:3807\u001b[0m, in \u001b[0;36mDataFrame.__getitem__\u001b[0;34m(self, key)\u001b[0m\n\u001b[1;32m   3805\u001b[0m \u001b[38;5;28;01mif\u001b[39;00m \u001b[38;5;28mself\u001b[39m\u001b[38;5;241m.\u001b[39mcolumns\u001b[38;5;241m.\u001b[39mnlevels \u001b[38;5;241m>\u001b[39m \u001b[38;5;241m1\u001b[39m:\n\u001b[1;32m   3806\u001b[0m     \u001b[38;5;28;01mreturn\u001b[39;00m \u001b[38;5;28mself\u001b[39m\u001b[38;5;241m.\u001b[39m_getitem_multilevel(key)\n\u001b[0;32m-> 3807\u001b[0m indexer \u001b[38;5;241m=\u001b[39m \u001b[38;5;28;43mself\u001b[39;49m\u001b[38;5;241;43m.\u001b[39;49m\u001b[43mcolumns\u001b[49m\u001b[38;5;241;43m.\u001b[39;49m\u001b[43mget_loc\u001b[49m\u001b[43m(\u001b[49m\u001b[43mkey\u001b[49m\u001b[43m)\u001b[49m\n\u001b[1;32m   3808\u001b[0m \u001b[38;5;28;01mif\u001b[39;00m is_integer(indexer):\n\u001b[1;32m   3809\u001b[0m     indexer \u001b[38;5;241m=\u001b[39m [indexer]\n",
      "File \u001b[0;32m~/anaconda3/lib/python3.10/site-packages/pandas/core/indexes/base.py:3804\u001b[0m, in \u001b[0;36mIndex.get_loc\u001b[0;34m(self, key, method, tolerance)\u001b[0m\n\u001b[1;32m   3802\u001b[0m     \u001b[38;5;28;01mreturn\u001b[39;00m \u001b[38;5;28mself\u001b[39m\u001b[38;5;241m.\u001b[39m_engine\u001b[38;5;241m.\u001b[39mget_loc(casted_key)\n\u001b[1;32m   3803\u001b[0m \u001b[38;5;28;01mexcept\u001b[39;00m \u001b[38;5;167;01mKeyError\u001b[39;00m \u001b[38;5;28;01mas\u001b[39;00m err:\n\u001b[0;32m-> 3804\u001b[0m     \u001b[38;5;28;01mraise\u001b[39;00m \u001b[38;5;167;01mKeyError\u001b[39;00m(key) \u001b[38;5;28;01mfrom\u001b[39;00m \u001b[38;5;21;01merr\u001b[39;00m\n\u001b[1;32m   3805\u001b[0m \u001b[38;5;28;01mexcept\u001b[39;00m \u001b[38;5;167;01mTypeError\u001b[39;00m:\n\u001b[1;32m   3806\u001b[0m     \u001b[38;5;66;03m# If we have a listlike key, _check_indexing_error will raise\u001b[39;00m\n\u001b[1;32m   3807\u001b[0m     \u001b[38;5;66;03m#  InvalidIndexError. Otherwise we fall through and re-raise\u001b[39;00m\n\u001b[1;32m   3808\u001b[0m     \u001b[38;5;66;03m#  the TypeError.\u001b[39;00m\n\u001b[1;32m   3809\u001b[0m     \u001b[38;5;28mself\u001b[39m\u001b[38;5;241m.\u001b[39m_check_indexing_error(key)\n",
      "\u001b[0;31mKeyError\u001b[0m: 'Schizophrenia disorders (share of population) - Sex: Both - Age: Age-standardized'"
     ]
    }
   ],
   "source": [
    "df1['DALYs (Disability-Adjusted Life Years) - Mental disorders - Sex: Both - Age: All Ages (Percent)'] = df1['DALYs (Disability-Adjusted Life Years) - Mental disorders - Sex: Both - Age: All Ages (Percent)'].astype(float)\n",
    "df2['Schizophrenia disorders (share of population) - Sex: Both - Age: Age-standardized'] = df2['Schizophrenia disorders (share of population) - Sex: Both - Age: Age-standardized'].astype(float)\n",
    "df2['Bipolar disorders (share of population) - Sex: Both - Age: Age-standardized'] = df2['Bipolar disorders (share of population) - Sex: Both - Age: Age-standardized'].astype(float)\n",
    "df2['Eating disorders (share of population) - Sex: Both - Age: Age-standardized'] = df2['Eating disorders (share of population) - Sex: Both - Age: Age-standardized'].astype(float)\n",
    "df2['Anxiety disorders (share of population) - Sex: Both - Age: Age-standardized'] = df2['Anxiety disorders (share of population) - Sex: Both - Age: Age-standardized'].astype(float)\n",
    "df2['Prevalence - Drug use disorders - Sex: Both - Age: Age-standardized (Percent)'] = df2['Prevalence - Drug use disorders - Sex: Both - Age: Age-standardized (Percent)'].astype(float)\n",
    "df2['Depressive disorders (share of population) - Sex: Both - Age: Age-standardized'] = df2['Depressive disorders (share of population) - Sex: Both - Age: Age-standardized'].astype(float)\n",
    "df2['Prevalence - Alcohol use disorders - Sex: Both - Age: Age-standardized (Percent)'] = df2['Prevalence - Alcohol use disorders - Sex: Both - Age: Age-standardized (Percent)'].astype(float)"
   ]
  },
  {
   "cell_type": "markdown",
   "id": "36824aa5",
   "metadata": {},
   "source": [
    "---\n",
    "## STEP 5: MERGE THE TWO DATAFRAMES ON A COMMON COLUMN"
   ]
  },
  {
   "cell_type": "code",
   "execution_count": null,
   "id": "c9ac3497",
   "metadata": {},
   "outputs": [],
   "source": [
    "merged_df = pd.merge(df1, df2, on=['Entity', 'Code', 'Year'])"
   ]
  },
  {
   "cell_type": "markdown",
   "id": "7a9a2a8e",
   "metadata": {},
   "source": [
    "---\n",
    "## STEP 6: FEATURE THE MATRIX X AND THE VARIABLE y"
   ]
  },
  {
   "cell_type": "code",
   "execution_count": null,
   "id": "9999eb2a",
   "metadata": {},
   "outputs": [],
   "source": [
    "X = merged_df[['Schizophrenia disorders (share of population) - Sex: Both - Age: Age-standardized',\n",
    "               'Bipolar disorders (share of population) - Sex: Both - Age: Age-standardized',\n",
    "               'Eating disorders (share of population) - Sex: Both - Age: Age-standardized',\n",
    "               'Anxiety disorders (share of population) - Sex: Both - Age: Age-standardized',\n",
    "               'Prevalence - Drug use disorders - Sex: Both - Age: Age-standardized (Percent)',\n",
    "               'Depressive disorders (share of population) - Sex: Both - Age: Age-standardized',\n",
    "               'Prevalence - Alcohol use disorders - Sex: Both - Age: Age-standardized (Percent)']]\n",
    "\n",
    "y = merged_df['DALYs (Disability-Adjusted Life Years) - Mental disorders - Sex: Both - Age: All Ages (Percent)']"
   ]
  },
  {
   "cell_type": "markdown",
   "id": "d97d3b09",
   "metadata": {},
   "source": [
    "---\n",
    "## STEP 7: SPLIT THE DATA INTO TRAINING AND TESTING SETS"
   ]
  },
  {
   "cell_type": "code",
   "execution_count": 10,
   "id": "113aba48",
   "metadata": {},
   "outputs": [
    {
     "ename": "NameError",
     "evalue": "name 'X' is not defined",
     "output_type": "error",
     "traceback": [
      "\u001b[0;31m---------------------------------------------------------------------------\u001b[0m",
      "\u001b[0;31mNameError\u001b[0m                                 Traceback (most recent call last)",
      "Cell \u001b[0;32mIn[10], line 1\u001b[0m\n\u001b[0;32m----> 1\u001b[0m X_train, X_test, y_train, y_test \u001b[38;5;241m=\u001b[39m train_test_split(\u001b[43mX\u001b[49m, y, test_size\u001b[38;5;241m=\u001b[39m\u001b[38;5;241m0.2\u001b[39m, random_state\u001b[38;5;241m=\u001b[39m\u001b[38;5;241m42\u001b[39m)\n",
      "\u001b[0;31mNameError\u001b[0m: name 'X' is not defined"
     ]
    }
   ],
   "source": [
    "X_train, X_test, y_train, y_test = train_test_split(X, y, test_size=0.2, random_state=42)"
   ]
  },
  {
   "cell_type": "markdown",
   "id": "c6ddf631",
   "metadata": {},
   "source": [
    "---\n",
    "## STEP 8: VISUALISING THE CORRELATION HEATMAP OF DISEASES AND MENTAL FITNESS"
   ]
  },
  {
   "cell_type": "code",
   "execution_count": 11,
   "id": "68309bab",
   "metadata": {
    "scrolled": false
   },
   "outputs": [
    {
     "ename": "NameError",
     "evalue": "name 'merged_df' is not defined",
     "output_type": "error",
     "traceback": [
      "\u001b[0;31m---------------------------------------------------------------------------\u001b[0m",
      "\u001b[0;31mNameError\u001b[0m                                 Traceback (most recent call last)",
      "Cell \u001b[0;32mIn[11], line 2\u001b[0m\n\u001b[1;32m      1\u001b[0m \u001b[38;5;66;03m# Compute the correlation matrix\u001b[39;00m\n\u001b[0;32m----> 2\u001b[0m corr_matrix \u001b[38;5;241m=\u001b[39m \u001b[43mmerged_df\u001b[49m[[\u001b[38;5;124m'\u001b[39m\u001b[38;5;124mSchizophrenia disorders (share of population) - Sex: Both - Age: Age-standardized\u001b[39m\u001b[38;5;124m'\u001b[39m,\n\u001b[1;32m      3\u001b[0m                          \u001b[38;5;124m'\u001b[39m\u001b[38;5;124mBipolar disorders (share of population) - Sex: Both - Age: Age-standardized\u001b[39m\u001b[38;5;124m'\u001b[39m,\n\u001b[1;32m      4\u001b[0m                          \u001b[38;5;124m'\u001b[39m\u001b[38;5;124mEating disorders (share of population) - Sex: Both - Age: Age-standardized\u001b[39m\u001b[38;5;124m'\u001b[39m,\n\u001b[1;32m      5\u001b[0m                          \u001b[38;5;124m'\u001b[39m\u001b[38;5;124mAnxiety disorders (share of population) - Sex: Both - Age: Age-standardized\u001b[39m\u001b[38;5;124m'\u001b[39m,\n\u001b[1;32m      6\u001b[0m                          \u001b[38;5;124m'\u001b[39m\u001b[38;5;124mPrevalence - Drug use disorders - Sex: Both - Age: Age-standardized (Percent)\u001b[39m\u001b[38;5;124m'\u001b[39m,\n\u001b[1;32m      7\u001b[0m                          \u001b[38;5;124m'\u001b[39m\u001b[38;5;124mDepressive disorders (share of population) - Sex: Both - Age: Age-standardized\u001b[39m\u001b[38;5;124m'\u001b[39m,\n\u001b[1;32m      8\u001b[0m                          \u001b[38;5;124m'\u001b[39m\u001b[38;5;124mPrevalence - Alcohol use disorders - Sex: Both - Age: Age-standardized (Percent)\u001b[39m\u001b[38;5;124m'\u001b[39m,\n\u001b[1;32m      9\u001b[0m                          \u001b[38;5;124m'\u001b[39m\u001b[38;5;124mDALYs (Disability-Adjusted Life Years) - Mental disorders - Sex: Both - Age: All Ages (Percent)\u001b[39m\u001b[38;5;124m'\u001b[39m\n\u001b[1;32m     10\u001b[0m                         ]]\u001b[38;5;241m.\u001b[39mcorr()\n\u001b[1;32m     12\u001b[0m \u001b[38;5;66;03m# Create the heatmap\u001b[39;00m\n\u001b[1;32m     13\u001b[0m plt\u001b[38;5;241m.\u001b[39mfigure(figsize\u001b[38;5;241m=\u001b[39m(\u001b[38;5;241m12\u001b[39m, \u001b[38;5;241m8\u001b[39m))\n",
      "\u001b[0;31mNameError\u001b[0m: name 'merged_df' is not defined"
     ]
    }
   ],
   "source": [
    "# Compute the correlation matrix\n",
    "corr_matrix = merged_df[['Schizophrenia disorders (share of population) - Sex: Both - Age: Age-standardized',\n",
    "                         'Bipolar disorders (share of population) - Sex: Both - Age: Age-standardized',\n",
    "                         'Eating disorders (share of population) - Sex: Both - Age: Age-standardized',\n",
    "                         'Anxiety disorders (share of population) - Sex: Both - Age: Age-standardized',\n",
    "                         'Prevalence - Drug use disorders - Sex: Both - Age: Age-standardized (Percent)',\n",
    "                         'Depressive disorders (share of population) - Sex: Both - Age: Age-standardized',\n",
    "                         'Prevalence - Alcohol use disorders - Sex: Both - Age: Age-standardized (Percent)',\n",
    "                         'DALYs (Disability-Adjusted Life Years) - Mental disorders - Sex: Both - Age: All Ages (Percent)'\n",
    "                        ]].corr()\n",
    "\n",
    "# Create the heatmap\n",
    "plt.figure(figsize=(12, 8))\n",
    "sns.heatmap(corr_matrix, annot=True, cmap='coolwarm')\n",
    "plt.title('Correlation Heatmap - Diseases and Mental Fitness')\n",
    "plt.xticks(rotation=45)\n",
    "plt.yticks(rotation=0)\n",
    "plt.show()"
   ]
  },
  {
   "cell_type": "markdown",
   "id": "2e142fd0",
   "metadata": {},
   "source": [
    "---\n",
    "## STEP 9: FIT THE LINEAR REGRESSION MODEL"
   ]
  },
  {
   "cell_type": "code",
   "execution_count": 12,
   "id": "2ad1ef81",
   "metadata": {
    "scrolled": true
   },
   "outputs": [
    {
     "ename": "NameError",
     "evalue": "name 'X_train' is not defined",
     "output_type": "error",
     "traceback": [
      "\u001b[0;31m---------------------------------------------------------------------------\u001b[0m",
      "\u001b[0;31mNameError\u001b[0m                                 Traceback (most recent call last)",
      "Cell \u001b[0;32mIn[12], line 2\u001b[0m\n\u001b[1;32m      1\u001b[0m model \u001b[38;5;241m=\u001b[39m LinearRegression()\n\u001b[0;32m----> 2\u001b[0m model\u001b[38;5;241m.\u001b[39mfit(\u001b[43mX_train\u001b[49m, y_train)\n",
      "\u001b[0;31mNameError\u001b[0m: name 'X_train' is not defined"
     ]
    }
   ],
   "source": [
    "model = LinearRegression()\n",
    "model.fit(X_train, y_train)"
   ]
  },
  {
   "cell_type": "markdown",
   "id": "0b0877ee",
   "metadata": {},
   "source": [
    "--- \n",
    "## STEP 10: MAKE A PREDICTION USING TRAINED MODEL"
   ]
  },
  {
   "cell_type": "code",
   "execution_count": null,
   "id": "a13d982c",
   "metadata": {},
   "outputs": [],
   "source": [
    "y_pred = model.predict(X_test)"
   ]
  },
  {
   "cell_type": "markdown",
   "id": "ad6de860",
   "metadata": {},
   "source": [
    "---\n",
    "# STEP 11: PRINTING MODEL PERFOMANCE METRICS"
   ]
  },
  {
   "cell_type": "code",
   "execution_count": null,
   "id": "a9c9bf56",
   "metadata": {
    "scrolled": false
   },
   "outputs": [],
   "source": [
    "# Create a dictionary to store the model performance\n",
    "model_performance = {}\n",
    "\n",
    "# Ridge Regression\n",
    "ridge_model = Ridge(alpha=0.5)\n",
    "ridge_model.fit(X_train, y_train)\n",
    "ridge_y_pred = ridge_model.predict(X_test)\n",
    "ridge_mse = mean_squared_error(y_test, ridge_y_pred)\n",
    "ridge_r2 = r2_score(y_test, ridge_y_pred)\n",
    "model_performance['1. Ridge Regression'] = {'MSE': ridge_mse, 'R-squared': ridge_r2}\n",
    "\n",
    "# Lasso Regression\n",
    "lasso_model = Lasso(alpha=0.5)\n",
    "lasso_model.fit(X_train, y_train)\n",
    "lasso_y_pred = lasso_model.predict(X_test)\n",
    "lasso_mse = mean_squared_error(y_test, lasso_y_pred)\n",
    "lasso_r2 = r2_score(y_test, lasso_y_pred)\n",
    "model_performance['2. Lasso Regression'] = {'MSE': lasso_mse, 'R-squared': lasso_r2}\n",
    "\n",
    "# Elastic Net Regression\n",
    "elastic_net_model = ElasticNet(alpha=0.5, l1_ratio=0.5)\n",
    "elastic_net_model.fit(X_train, y_train)\n",
    "elastic_net_y_pred = elastic_net_model.predict(X_test)\n",
    "elastic_net_mse = mean_squared_error(y_test, elastic_net_y_pred)\n",
    "elastic_net_r2 = r2_score(y_test, elastic_net_y_pred)\n",
    "model_performance['3. Elastic Net Regression'] = {'MSE': elastic_net_mse, 'R-squared': elastic_net_r2}\n",
    "\n",
    "# Polynomial Regression\n",
    "poly_features = PolynomialFeatures(degree=2)\n",
    "X_poly = poly_features.fit_transform(X_train)\n",
    "poly_model = LinearRegression()\n",
    "poly_model.fit(X_poly, y_train)\n",
    "X_test_poly = poly_features.transform(X_test)\n",
    "poly_y_pred = poly_model.predict(X_test_poly)\n",
    "poly_mse = mean_squared_error(y_test, poly_y_pred)\n",
    "poly_r2 = r2_score(y_test, poly_y_pred)\n",
    "model_performance['4. Polynomial Regression'] = {'MSE': poly_mse, 'R-squared': poly_r2}\n",
    "\n",
    "# Decision Tree Regression\n",
    "tree_model = DecisionTreeRegressor()\n",
    "tree_model.fit(X_train, y_train)\n",
    "tree_y_pred = tree_model.predict(X_test)\n",
    "tree_mse = mean_squared_error(y_test, tree_y_pred)\n",
    "tree_r2 = r2_score(y_test, tree_y_pred)\n",
    "model_performance['5. Decision Tree Regression'] = {'MSE': tree_mse, 'R-squared': tree_r2}\n",
    "\n",
    "# Random Forest Regression\n",
    "forest_model = RandomForestRegressor()\n",
    "forest_model.fit(X_train, y_train)\n",
    "forest_y_pred = forest_model.predict(X_test)\n",
    "forest_mse = mean_squared_error(y_test, forest_y_pred)\n",
    "forest_r2 = r2_score(y_test, forest_y_pred)\n",
    "model_performance['6. Random Forest Regression'] = {'MSE': forest_mse, 'R-squared': forest_r2}\n",
    "\n",
    "# SVR (Support Vector Regression)\n",
    "svr_model = SVR()\n",
    "svr_model.fit(X_train, y_train)\n",
    "svr_y_pred = svr_model.predict(X_test)\n",
    "svr_mse = mean_squared_error(y_test, svr_y_pred)\n",
    "svr_r2 = r2_score(y_test, svr_y_pred)\n",
    "model_performance['7. Support Vector Regression'] = {'MSE': svr_mse, 'R-squared': svr_r2}\n",
    "\n",
    "# XGBoost Regression\n",
    "xgb_model = XGBRegressor()\n",
    "xgb_model.fit(X_train, y_train)\n",
    "xgb_y_pred = xgb_model.predict(X_test)\n",
    "xgb_mse = mean_squared_error(y_test, xgb_y_pred)\n",
    "xgb_r2 = r2_score(y_test, xgb_y_pred)\n",
    "model_performance['8. XGBoost Regression'] = {'MSE': xgb_mse, 'R-squared': xgb_r2}\n",
    "\n",
    "# K-Nearest Neighbors Regression\n",
    "knn_model = KNeighborsRegressor()\n",
    "knn_model.fit(X_train, y_train)\n",
    "knn_y_pred = knn_model.predict(X_test)\n",
    "knn_mse = mean_squared_error(y_test, knn_y_pred)\n",
    "knn_r2 = r2_score(y_test, knn_y_pred)\n",
    "model_performance['9. K-Nearest Neighbors Regression'] = {'MSE': knn_mse, 'R-squared': knn_r2}\n",
    "\n",
    "# Bayesian Regression\n",
    "bayesian_model = BayesianRidge()\n",
    "bayesian_model.fit(X_train, y_train)\n",
    "bayesian_y_pred = bayesian_model.predict(X_test)\n",
    "bayesian_mse = mean_squared_error(y_test, bayesian_y_pred)\n",
    "bayesian_r2 = r2_score(y_test, bayesian_y_pred)\n",
    "model_performance['10. Bayesian Regression'] = {'MSE': bayesian_mse, 'R-squared': bayesian_r2}\n",
    "\n",
    "# Neural Network Regression\n",
    "nn_model = MLPRegressor(max_iter=1000)\n",
    "nn_model.fit(X_train, y_train)\n",
    "nn_y_pred = nn_model.predict(X_test)\n",
    "nn_mse = mean_squared_error(y_test, nn_y_pred)\n",
    "nn_r2 = r2_score(y_test, nn_y_pred)\n",
    "model_performance['11. Neural Network Regression'] = {'MSE': nn_mse, 'R-squared': nn_r2}\n",
    "\n",
    "# Gradient Boosting Regression\n",
    "gb_model = GradientBoostingRegressor()\n",
    "gb_model.fit(X_train, y_train)\n",
    "gb_y_pred = gb_model.predict(X_test)\n",
    "gb_mse = mean_squared_error(y_test, gb_y_pred)\n",
    "gb_r2 = r2_score(y_test, gb_y_pred)\n",
    "model_performance['12. Gradient Boosting Regression'] = {'MSE': gb_mse, 'R-squared': gb_r2}\n",
    "\n",
    "# Print model performance\n",
    "for model, performance in model_performance.items():\n",
    "    print(f\"Model: {model}\")\n",
    "    print(\"   Mean Squared Error (MSE):\", performance['MSE'])\n",
    "    print(\"   R-squared Score:\", performance['R-squared'])\n",
    "    print()\n"
   ]
  },
  {
   "cell_type": "markdown",
   "id": "5970a28b",
   "metadata": {},
   "source": [
    "---\n",
    "## STEP 12: PLOTTING PREDECTED vs ACTUAL VALUES GRAPH"
   ]
  },
  {
   "cell_type": "code",
   "execution_count": null,
   "id": "06df8e56",
   "metadata": {
    "scrolled": true
   },
   "outputs": [],
   "source": [
    "# Create a dictionary to store the model performance\n",
    "model_performance = {\n",
    "    'Ridge Regression': {'Predicted': ridge_y_pred, 'Actual': y_test},\n",
    "    'Lasso Regression': {'Predicted': lasso_y_pred, 'Actual': y_test},\n",
    "    'Elastic Net Regression': {'Predicted': elastic_net_y_pred, 'Actual': y_test},\n",
    "    'Polynomial Regression': {'Predicted': poly_y_pred, 'Actual': y_test},\n",
    "    'Decision Tree Regression': {'Predicted': tree_y_pred, 'Actual': y_test},\n",
    "    'Random Forest Regression': {'Predicted': forest_y_pred, 'Actual': y_test},\n",
    "    'Support Vector Regression': {'Predicted': svr_y_pred, 'Actual': y_test},\n",
    "    'XGBoost Regression': {'Predicted': xgb_y_pred, 'Actual': y_test},\n",
    "    'K-Nearest Neighbors Regression': {'Predicted': knn_y_pred, 'Actual': y_test},\n",
    "    'Bayesian Regression': {'Predicted': bayesian_y_pred, 'Actual': y_test},\n",
    "    'Neural Network Regression': {'Predicted': nn_y_pred, 'Actual': y_test},\n",
    "    'Gradient Boosting Regression': {'Predicted': gb_y_pred, 'Actual': y_test}\n",
    "}\n",
    "\n",
    "# Set up figure and axes\n",
    "num_models = len(model_performance)\n",
    "num_rows = (num_models // 3) + (1 if num_models % 3 != 0 else 0)\n",
    "fig, axes = plt.subplots(num_rows, 3, figsize=(15, num_rows * 5))\n",
    "\n",
    "# Define color palette\n",
    "color_palette = plt.cm.Set1(range(num_models))\n",
    "\n",
    "# Iterate over the models and plot the predicted vs actual values\n",
    "for i, (model, performance) in enumerate(model_performance.items()):\n",
    "    row = i // 3\n",
    "    col = i % 3\n",
    "    ax = axes[row, col] if num_rows > 1 else axes[col]\n",
    "\n",
    "    # Get the predicted and actual values\n",
    "    y_pred = performance['Predicted']\n",
    "    y_actual = performance['Actual']\n",
    "\n",
    "    # Scatter plot of predicted vs actual values\n",
    "    ax.scatter(y_actual, y_pred, color=color_palette[i], alpha=0.5, marker='o')\n",
    "\n",
    "    # Add a diagonal line for reference\n",
    "    ax.plot([y_actual.min(), y_actual.max()], [y_actual.min(), y_actual.max()], color='r')\n",
    "\n",
    "    # Set the title and labels\n",
    "    ax.set_title(model)\n",
    "    ax.set_xlabel('Actual')\n",
    "    ax.set_ylabel('Predicted')\n",
    "\n",
    "    # Add gridlines\n",
    "    ax.grid(True)\n",
    "\n",
    "# Adjust spacing between subplots\n",
    "fig.tight_layout()\n",
    "\n",
    "# Create a legend\n",
    "plt.legend(model_performance.keys(), loc='upper right')\n",
    "\n",
    "# Show the plot\n",
    "plt.show()"
   ]
  },
  {
   "cell_type": "markdown",
   "id": "5f173a57",
   "metadata": {},
   "source": [
    "---\n",
    "## STEP 13: IT PRINTS REGRESSION MODEL IN ORDER OF PRECISION AND A FINAL RESULT TELLING WHICH REGRESSION MODEL HAS THE MOST PRECISE VALUE AND WHICH REGRESSION MODEL HAS LEAST PRECISE VALUE"
   ]
  },
  {
   "cell_type": "code",
   "execution_count": null,
   "id": "dda08d69",
   "metadata": {},
   "outputs": [],
   "source": [
    "# Store the regression models and their scores in a dictionary\n",
    "regression_scores = {\n",
    "    \"Ridge Regression\": (ridge_mse, ridge_r2),\n",
    "    \"Elastic Net Regression\": (elastic_net_mse, elastic_net_r2),\n",
    "    \"Polynomial Regression\": (poly_mse, poly_r2),\n",
    "    \"Random Forest Regression\": (forest_mse, forest_r2),\n",
    "    \"Gradient Boosting Regression\": (gb_mse, gb_r2),\n",
    "    \"Decision Tree Regression\": (tree_mse, tree_r2),\n",
    "    \"Lasso Regression\": (lasso_mse, lasso_r2),\n",
    "    \"Support Vector Regression\": (svr_mse, svr_r2),\n",
    "    \"XGBoost Regression\": (xgb_mse, xgb_r2),\n",
    "    \"K-Nearest Neighbors Regression\": (knn_mse, knn_r2),\n",
    "    \"Bayesian Regression\": (bayesian_mse, bayesian_r2),\n",
    "    \"Neural Network Regression\": (nn_mse, nn_r2),\n",
    "}\n",
    "\n",
    "# Sort the regression models based on MSE in ascending order and R-squared score in descending order\n",
    "sorted_models = sorted(regression_scores.items(), key=lambda x: (x[1][0], -x[1][1]))\n",
    "\n",
    "print(\"Regression Models in Order of Precision:\")\n",
    "for i, (model, scores) in enumerate(sorted_models, start=1):\n",
    "    print(f\"{i}. {model}\")\n",
    "    print(\"   Mean Squared Error (MSE):\", scores[0])\n",
    "    print(\"   R-squared Score:\", scores[1])\n",
    "    print()\n",
    "\n",
    "most_precise_model = sorted_models[0][0]\n",
    "least_precise_model = sorted_models[-1][0]\n",
    "\n",
    "print(f\"The most precise model is: {most_precise_model}\")\n",
    "print(f\"The least precise model is: {least_precise_model}\")\n"
   ]
  }
 ],
 "metadata": {
  "kernelspec": {
   "display_name": "Python 3 (ipykernel)",
   "language": "python",
   "name": "python3"
  },
  "language_info": {
   "codemirror_mode": {
    "name": "ipython",
    "version": 3
   },
   "file_extension": ".py",
   "mimetype": "text/x-python",
   "name": "python",
   "nbconvert_exporter": "python",
   "pygments_lexer": "ipython3",
   "version": "3.10.9"
  }
 },
 "nbformat": 4,
 "nbformat_minor": 5
}
